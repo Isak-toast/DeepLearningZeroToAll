{
  "nbformat": 4,
  "nbformat_minor": 0,
  "metadata": {
    "colab": {
      "name": "Code_sig_11.ipynb",
      "provenance": [],
      "include_colab_link": true
    },
    "kernelspec": {
      "name": "python3",
      "display_name": "Python 3"
    }
  },
  "cells": [
    {
      "cell_type": "markdown",
      "metadata": {
        "id": "view-in-github",
        "colab_type": "text"
      },
      "source": [
        "<a href=\"https://colab.research.google.com/github/Isak-toast/DeepLearningZeroToAll/blob/master/Code_sig_11.ipynb\" target=\"_parent\"><img src=\"https://colab.research.google.com/assets/colab-badge.svg\" alt=\"Open In Colab\"/></a>"
      ]
    },
    {
      "cell_type": "markdown",
      "metadata": {
        "id": "9qhOD4FqtzxG",
        "colab_type": "text"
      },
      "source": [
        "#**[11] Ticket numbers usually consist of an even number of digits. A ticket number is considered lucky if the sum of the first half of the digits is equal to the sum of the second half.**"
      ]
    },
    {
      "cell_type": "markdown",
      "metadata": {
        "id": "egnLlgjKt6VV",
        "colab_type": "text"
      },
      "source": [
        "Input/Output\n",
        "\n",
        "[execution time limit] 4 seconds (py3)\n",
        "\n",
        "[input] integer n\n",
        "\n",
        "A ticket number represented as a positive integer with an even number of digits.\n",
        "\n",
        "Guaranteed constraints:\n",
        "10 ≤ n < 106.\n",
        "\n",
        "[output] boolean\n",
        "\n",
        "true if n is a lucky ticket number, false otherwise."
      ]
    },
    {
      "cell_type": "code",
      "metadata": {
        "id": "pfHq0mo7xLWC",
        "colab_type": "code",
        "colab": {}
      },
      "source": [
        "def isLucky(n):\n",
        "    a = list(str(n))\n",
        "    limit = int(len(a)//2)\n",
        "    b = a[:limit]\n",
        "    newlist = []\n",
        "    newhalflist = []\n",
        "    for i in a:\n",
        "         newlist.append(int(i))\n",
        "    for i in b:\n",
        "        newhalflist.append(int(i))\n",
        "    return sum(newlist) == (2*sum(newhalflist))\n"
      ],
      "execution_count": 0,
      "outputs": []
    },
    {
      "cell_type": "code",
      "metadata": {
        "id": "8DfggMPKupwG",
        "colab_type": "code",
        "colab": {
          "base_uri": "https://localhost:8080/",
          "height": 34
        },
        "outputId": "b58846a4-a9c6-4d63-a630-e8ac3c41717d"
      },
      "source": [
        "n = 1230\n",
        "isLucky(n)"
      ],
      "execution_count": 4,
      "outputs": [
        {
          "output_type": "execute_result",
          "data": {
            "text/plain": [
              "True"
            ]
          },
          "metadata": {
            "tags": []
          },
          "execution_count": 4
        }
      ]
    },
    {
      "cell_type": "code",
      "metadata": {
        "id": "9vLC-dHBusjx",
        "colab_type": "code",
        "colab": {
          "base_uri": "https://localhost:8080/",
          "height": 34
        },
        "outputId": "7643ca49-27c7-4bce-9d91-d154c1e108da"
      },
      "source": [
        "#andyman1337\n",
        "def isLucky(n):\n",
        "    s = str(n)\n",
        "    pivot = len(s)//2\n",
        "    left, right = s[:pivot], s[pivot:]\n",
        "    return sum(map(int, left)) == sum(map(int, right))\n"
      ],
      "execution_count": 20,
      "outputs": [
        {
          "output_type": "execute_result",
          "data": {
            "text/plain": [
              "6"
            ]
          },
          "metadata": {
            "tags": []
          },
          "execution_count": 20
        }
      ]
    },
    {
      "cell_type": "code",
      "metadata": {
        "id": "guT-eCvGu_Gx",
        "colab_type": "code",
        "colab": {}
      },
      "source": [
        ""
      ],
      "execution_count": 0,
      "outputs": []
    }
  ]
}